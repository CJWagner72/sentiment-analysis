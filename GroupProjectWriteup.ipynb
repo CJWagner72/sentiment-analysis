{
 "cells": [
  {
   "cell_type": "markdown",
   "metadata": {},
   "source": [
    "## Group Project"
   ]
  },
  {
   "cell_type": "markdown",
   "metadata": {},
   "source": [
    "Team: Initech TPS Report Automation \n",
    "\n",
    "Members: Jamie Moore, Chris Wagner, and Kathleen Sorensen \n",
    "\n",
    " "
   ]
  },
  {
   "cell_type": "markdown",
   "metadata": {},
   "source": [
    "## Problem/Goal"
   ]
  },
  {
   "cell_type": "markdown",
   "metadata": {},
   "source": [
    "We would like to use sentiment analysis on training surveys to interpet the positive/negative feedback to help evaluate the effectiveness of the training.  \n",
    "\n",
    "We would also like to use topic modeling to identify common themes in the training feedback for future training."
   ]
  },
  {
   "cell_type": "markdown",
   "metadata": {},
   "source": [
    "## Data Being Used:"
   ]
  },
  {
   "cell_type": "markdown",
   "metadata": {},
   "source": [
    "For sentiment anaylsis learning, we are using a datafeed of Rotten Tomatos online reviews.  \n",
    "This data feed is made up of the following columns:\n",
    "    Freshness - This is an indication of postive/negative review.\n",
    "    Review - The actual text of a given review.\n",
    "    \n",
    "This data was downloaded from an external public source with unlimited rights - https://drive.google.com/file/d/1N8WCMci_jpDHwCVgSED-B9yts-q9_Bb5/view  \n",
    "\n",
    "\n",
    "\n"
   ]
  },
  {
   "cell_type": "markdown",
   "metadata": {},
   "source": [
    "## Project Plan"
   ]
  },
  {
   "cell_type": "markdown",
   "metadata": {},
   "source": [
    "We will take the following process to clean this data:\n",
    "\n",
    "    Import data - import the existing data set into a pandas data frame or read the file into a python list object (tbd)\n",
    "\n",
    "    Cleaning the data -\n",
    "        Remove punctuation\n",
    "        Remove stop words (create our own list)\n",
    "        Stemming common words (i.e. stop vs. stopping)\n",
    "        \n",
    "        We will create our own functions to do the data cleansing.\n",
    "        \n",
    "After the data has been cleaned, the data set will be broken into three sets for the following purposes:\n",
    "    Testing\n",
    "    Training \n",
    "    Validation\n",
    "    \n",
    "The data will then be applied to a predictive classification model that we will build to train the model on the sentiment and topic analysis.\n",
    "\n",
    "From there the model will be called from the flask application to apply the analysis on input text/data.\n"
   ]
  },
  {
   "cell_type": "markdown",
   "metadata": {},
   "source": [
    "## Project Continuation"
   ]
  },
  {
   "cell_type": "markdown",
   "metadata": {},
   "source": [
    "Further tune the model to increase the accuracy of the results (Yas/Nays).\n",
    "\n",
    "Add additional data sets for further analysis.\n",
    "\n",
    "\n",
    "\n",
    "\n"
   ]
  }
 ],
 "metadata": {
  "kernelspec": {
   "display_name": "Python 3",
   "language": "python",
   "name": "python3"
  },
  "language_info": {
   "codemirror_mode": {
    "name": "ipython",
    "version": 3
   },
   "file_extension": ".py",
   "mimetype": "text/x-python",
   "name": "python",
   "nbconvert_exporter": "python",
   "pygments_lexer": "ipython3",
   "version": "3.7.3"
  }
 },
 "nbformat": 4,
 "nbformat_minor": 2
}
