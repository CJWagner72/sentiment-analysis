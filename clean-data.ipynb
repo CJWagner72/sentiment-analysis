{
 "cells": [
  {
   "cell_type": "markdown",
   "metadata": {},
   "source": [
    "## Dependencies"
   ]
  },
  {
   "cell_type": "code",
   "execution_count": 16,
   "metadata": {
    "pycharm": {
     "name": "#%%\n"
    }
   },
   "outputs": [],
   "source": [
    "import pandas as pd\n",
    "import re\n",
    "from stop_words import stop_words\n",
    "from nltk.stem import PorterStemmer\n",
    "from nltk.tokenize import sent_tokenize, word_tokenize\n",
    "\n"
   ]
  },
  {
   "cell_type": "markdown",
   "metadata": {
    "pycharm": {
     "name": "#%% md\n"
    }
   },
   "source": [
    "# Helper Functions\n"
   ]
  },
  {
   "cell_type": "markdown",
   "metadata": {},
   "source": [
    "### To Lowercase"
   ]
  },
  {
   "cell_type": "code",
   "execution_count": 17,
   "metadata": {
    "pycharm": {
     "name": "#%%\n"
    }
   },
   "outputs": [],
   "source": [
    "def lower_case(line): return line.lower().strip()\n"
   ]
  },
  {
   "cell_type": "markdown",
   "metadata": {},
   "source": [
    "### Stem Words"
   ]
  },
  {
   "cell_type": "code",
   "execution_count": 18,
   "metadata": {
    "pycharm": {
     "name": "#%%\n"
    }
   },
   "outputs": [],
   "source": [
    "def stem_words(line):\n",
    "    ps = PorterStemmer()\n",
    "\n",
    "    words = line.split()\n",
    "    \n",
    "    return_list = [ps.stem(word.strip()) for word in words]\n",
    "\n",
    "    return ' '.join(return_list)\n"
   ]
  },
  {
   "cell_type": "markdown",
   "metadata": {},
   "source": [
    "### Remove Stop Words"
   ]
  },
  {
   "cell_type": "code",
   "execution_count": 19,
   "metadata": {
    "pycharm": {
     "name": "#%%\n"
    }
   },
   "outputs": [],
   "source": [
    "def remove_stop_words(line):\n",
    "\n",
    "    words = line.split()\n",
    "    \n",
    "    kept_words = [word for word in words if word not in stop_words]\n",
    "\n",
    "    return ' '.join(kept_words)\n"
   ]
  },
  {
   "cell_type": "markdown",
   "metadata": {
    "pycharm": {
     "name": "#%% md\n"
    }
   },
   "source": [
    "### Remove Special Characters and Numbers"
   ]
  },
  {
   "cell_type": "code",
   "execution_count": 20,
   "metadata": {
    "pycharm": {
     "name": "#%%\n"
    }
   },
   "outputs": [],
   "source": [
    "def remove_special_characters_and_numbers(line):\n",
    "    return re.sub(r'([^a-zA-Z\\s]+?)', '', line)\n",
    "\n",
    "\n"
   ]
  },
  {
   "cell_type": "markdown",
   "metadata": {
    "pycharm": {
     "name": "#%% md\n"
    }
   },
   "source": [
    "### Vectorize"
   ]
  },
  {
   "cell_type": "code",
   "execution_count": 21,
   "metadata": {
    "pycharm": {
     "name": "#%%\n"
    }
   },
   "outputs": [],
   "source": [
    "\n",
    "def get_words_set(df): return {word for index, row in df.iterrows() for word in row['Review'].split()}    \n",
    "\n",
    "\n",
    "def create_row_dict(index, row, word_set):\n",
    "    \n",
    "    if index % 10000 == 0:\n",
    "        print('processing index ', index, '.')\n",
    "    \n",
    "    row_words = set(row['Review'].split())\n",
    "    \n",
    "    return_dict = {header: (0, 1)[header in row_words] for header in word_set}\n",
    "    return_dict['_Freshness'] = row['Freshness']\n",
    "    return return_dict\n",
    "\n",
    "\n",
    "def vectorize(df):\n",
    "    word_set = get_words_set(df)\n",
    "    \n",
    "    word_set.add('_Freshness') #added a special character just in case 'Freshness' shows up in the data\n",
    "\n",
    "    \n",
    "    print('word_set size: ', len(word_set))\n",
    "        \n",
    "    dict_list = [create_row_dict(index, row, word_set) for index, row in df.iterrows()]\n",
    "\n",
    "    return_df = pd.DataFrame(dict_list)\n",
    "\n",
    "    print(return_df.head())\n",
    "    return return_df\n",
    "\n"
   ]
  },
  {
   "cell_type": "markdown",
   "metadata": {
    "pycharm": {
     "name": "#%% md\n"
    }
   },
   "source": [
    "# Main\n",
    "### Clean"
   ]
  },
  {
   "cell_type": "code",
   "execution_count": 23,
   "metadata": {
    "pycharm": {
     "name": "#%%\n"
    }
   },
   "outputs": [],
   "source": [
    "\n",
    "import time\n",
    "start = time.clock()\n",
    "def get_time():\n",
    "    print('TIME: ', time.clock() - start)\n",
    "\n",
    "def clean_data(df):\n",
    "    df['Review'] = df['Review'].apply(lower_case)\n",
    "    print('Finished, lower_case: ')\n",
    "    get_time()\n",
    "    df['Review'] = df['Review'].apply(remove_stop_words)\n",
    "    print('Finished, remove_stop_words: ')\n",
    "    get_time()\n",
    "    df['Review'] = df['Review'].apply(remove_special_characters_and_numbers)\n",
    "    print('Finished, remove_special_characters_and_numbers: ')\n",
    "    get_time()\n",
    "    df['Review'] = df['Review'].apply(stem_words)\n",
    "    print('Finished, stem_words: ')\n",
    "    get_time()\n",
    "\n",
    "    df.to_csv('cleaned.csv', index=False)\n",
    "    print('Finished, cleaned to csv: ')\n",
    "    get_time()\n",
    "    \n",
    "raw_df = pd.read_csv('truncated.csv')\n",
    "# raw_df = pd.read_csv('rotten_tomatoes_reviews.csv')\n",
    "\n",
    "clean_data(raw_df)\n"
   ]
  },
  {
   "cell_type": "markdown",
   "metadata": {
    "pycharm": {
     "name": "#%% md\n"
    }
   },
   "source": [
    "### Vectorize"
   ]
  },
  {
   "cell_type": "code",
   "execution_count": null,
   "metadata": {
    "pycharm": {
     "name": "#%%\n"
    }
   },
   "outputs": [],
   "source": [
    "\n",
    "clean_data = pd.read_csv('cleaned.csv')\n",
    "vectorized = vectorize(clean_data)\n",
    "print('Finished, vectorize: ')\n",
    "get_time()\n",
    "vectorized.to_csv('vectorized.csv', index=False)\n",
    "print('Finished! ')\n",
    "get_time()\n"
   ]
  }
 ],
 "metadata": {
  "kernelspec": {
   "display_name": "Python 3",
   "language": "python",
   "name": "python3"
  },
  "language_info": {
   "codemirror_mode": {
    "name": "ipython",
    "version": 3
   },
   "file_extension": ".py",
   "mimetype": "text/x-python",
   "name": "python",
   "nbconvert_exporter": "python",
   "pygments_lexer": "ipython3",
   "version": "3.6.1"
  },
  "pycharm": {
   "stem_cell": {
    "cell_type": "raw",
    "source": [],
    "metadata": {
     "collapsed": false
    }
   }
  }
 },
 "nbformat": 4,
 "nbformat_minor": 1
}