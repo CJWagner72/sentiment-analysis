{
 "cells": [
  {
   "cell_type": "markdown",
   "metadata": {},
   "source": [
    "## Dependencies"
   ]
  },
  {
   "cell_type": "code",
   "execution_count": 16,
   "metadata": {
    "pycharm": {
     "name": "#%%\n"
    }
   },
   "outputs": [],
   "source": [
    "import pandas as pd\n",
    "import re\n",
    "from stop_words import stop_words\n",
    "from nltk.stem import PorterStemmer\n",
    "from nltk.tokenize import sent_tokenize, word_tokenize\n",
    "\n"
   ]
  },
  {
   "cell_type": "markdown",
   "metadata": {
    "pycharm": {
     "name": "#%% md\n"
    }
   },
   "source": [
    "# Helper Functions\n"
   ]
  },
  {
   "cell_type": "markdown",
   "metadata": {},
   "source": [
    "### To Lowercase"
   ]
  },
  {
   "cell_type": "code",
   "execution_count": 17,
   "metadata": {
    "pycharm": {
     "name": "#%%\n"
    }
   },
   "outputs": [],
   "source": [
    "def lower_case(line): return line.lower()\n"
   ]
  },
  {
   "cell_type": "markdown",
   "metadata": {},
   "source": [
    "### Stem Words"
   ]
  },
  {
   "cell_type": "code",
   "execution_count": 18,
   "metadata": {
    "pycharm": {
     "name": "#%%\n"
    }
   },
   "outputs": [],
   "source": [
    "def stem_words(line):\n",
    "    ps = PorterStemmer()\n",
    "\n",
    "    line = line.strip()\n",
    "    words = line.split()\n",
    "\n",
    "    return_list = []\n",
    "\n",
    "    for word in words:\n",
    "\n",
    "        return_list.append(ps.stem(word.strip()))\n",
    "\n",
    "    return ' '.join(return_list)\n"
   ]
  },
  {
   "cell_type": "markdown",
   "metadata": {},
   "source": [
    "### Remove Stop Words"
   ]
  },
  {
   "cell_type": "code",
   "execution_count": 19,
   "metadata": {
    "pycharm": {
     "name": "#%%\n"
    }
   },
   "outputs": [],
   "source": [
    "def remove_stop_words(line):\n",
    "\n",
    "    line = line.strip()\n",
    "    words = line.split()\n",
    "    kept_words = []\n",
    "\n",
    "    for word in words:\n",
    "\n",
    "        word = word.strip()\n",
    "\n",
    "        if word not in stop_words:\n",
    "            kept_words.append(word)\n",
    "\n",
    "    return ' '.join(kept_words)\n"
   ]
  },
  {
   "cell_type": "markdown",
   "metadata": {
    "pycharm": {
     "name": "#%% md\n"
    }
   },
   "source": [
    "### Remove Special Characters and Numbers"
   ]
  },
  {
   "cell_type": "code",
   "execution_count": 20,
   "metadata": {
    "pycharm": {
     "name": "#%%\n"
    }
   },
   "outputs": [],
   "source": [
    "def remove_special_characters_and_numbers(line):\n",
    "    return re.sub(r'([^a-zA-Z\\s]+?)', '', line)\n",
    "\n",
    "\n"
   ]
  },
  {
   "cell_type": "markdown",
   "metadata": {
    "pycharm": {
     "name": "#%% md\n"
    }
   },
   "source": [
    "### Vectorize"
   ]
  },
  {
   "cell_type": "code",
   "execution_count": 21,
   "metadata": {
    "pycharm": {
     "name": "#%%\n"
    }
   },
   "outputs": [],
   "source": [
    "\n",
    "def get_words_set(df):\n",
    "    word_list = []\n",
    "    \n",
    "    for index, row in df.iterrows():\n",
    "        words = row['Review'].split()\n",
    "        for word in words:\n",
    "            if word not in word_list:\n",
    "                word_list.append(word)\n",
    "        \n",
    "    return word_list\n",
    "\n",
    "\n",
    "def create_row_dict(row, headers):\n",
    "    return_dict = {}\n",
    "    for index in range(len(headers)):\n",
    "        if headers[index] in row['Review'].split():\n",
    "            return_dict[headers[index]] = 1\n",
    "        else:\n",
    "            return_dict[headers[index]] = 0\n",
    "            \n",
    "    return return_dict\n",
    "            \n",
    "    \n",
    "\n",
    "def vectorize(df):\n",
    "    word_set = get_words_set(df)\n",
    "    \n",
    "    headers = ['_Freshness'] #added a special character just in case 'Freshness' shows up in the data\n",
    "    headers.extend(word_set)\n",
    "    \n",
    "    print('headers size: ', len(headers))\n",
    "        \n",
    "    dict_list = []\n",
    "\n",
    "    for index, row in df.iterrows():\n",
    "        dict_list.append(create_row_dict(row, word_set))\n",
    "\n",
    "    return_df = pd.DataFrame(dict_list)\n",
    "\n",
    "    print(return_df.head())\n",
    "    return return_df\n",
    "\n",
    "\n",
    "\n"
   ]
  },
  {
   "cell_type": "markdown",
   "metadata": {
    "pycharm": {
     "name": "#%% md\n"
    }
   },
   "source": [
    "# Main\n",
    "### Clean"
   ]
  },
  {
   "cell_type": "code",
   "execution_count": 23,
   "metadata": {
    "pycharm": {
     "name": "#%%\n"
    }
   },
   "outputs": [],
   "source": [
    "\n",
    "def clean_data(df):\n",
    "    df['Review'] = df['Review'].apply(lower_case)\n",
    "    df['Review'] = df['Review'].apply(stem_words)\n",
    "    df['Review'] = df['Review'].apply(remove_stop_words)\n",
    "    df['Review'] = df['Review'].apply(remove_special_characters_and_numbers)\n",
    "    df['Review'] = df['Review'].apply(remove_stop_words)\n",
    "\n",
    "    df.to_csv('cleaned.csv', index=False)\n",
    "    \n",
    "# raw_df = pd.read_csv('truncated.csv')\n",
    "raw_df = pd.read_csv('rotten_tomatoes_reviews.csv')\n",
    "\n",
    "clean_data(raw_df)\n"
   ]
  },
  {
   "cell_type": "markdown",
   "metadata": {
    "pycharm": {
     "name": "#%% md\n"
    }
   },
   "source": [
    "### Vectorize"
   ]
  },
  {
   "cell_type": "code",
   "execution_count": null,
   "metadata": {
    "pycharm": {
     "name": "#%%\n"
    }
   },
   "outputs": [],
   "source": [
    "\n",
    "clean_data = pd.read_csv('cleaned.csv')\n",
    "vectorized = vectorize(clean_data.head(20))\n",
    "vectorized.to_csv('vectorized.csv')\n"
   ]
  }
 ],
 "metadata": {
  "kernelspec": {
   "display_name": "Python 3",
   "language": "python",
   "name": "python3"
  },
  "language_info": {
   "codemirror_mode": {
    "name": "ipython",
    "version": 3
   },
   "file_extension": ".py",
   "mimetype": "text/x-python",
   "name": "python",
   "nbconvert_exporter": "python",
   "pygments_lexer": "ipython3",
   "version": "3.6.1"
  },
  "pycharm": {
   "stem_cell": {
    "cell_type": "raw",
    "metadata": {
     "collapsed": false
    },
    "source": []
   }
  }
 },
 "nbformat": 4,
 "nbformat_minor": 1
}
