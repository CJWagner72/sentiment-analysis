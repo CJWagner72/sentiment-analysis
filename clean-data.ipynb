{
 "cells": [
  {
   "cell_type": "markdown",
   "metadata": {},
   "source": [
    "## Dependencies"
   ]
  },
  {
   "cell_type": "code",
   "execution_count": 185,
   "metadata": {
    "collapsed": true,
    "pycharm": {
     "name": "#%%\n"
    }
   },
   "outputs": [],
   "source": [
    "from nltk.stem import PorterStemmer\n",
    "import pandas as pd\n",
    "import re\n",
    "from stop_words import stop_words\n",
    "import numpy as np\n"
   ]
  },
  {
   "cell_type": "markdown",
   "metadata": {
    "pycharm": {
     "name": "#%% md\n"
    }
   },
   "source": [
    "# Helper Functions\n"
   ]
  },
  {
   "cell_type": "markdown",
   "metadata": {},
   "source": [
    "### To Lowercase"
   ]
  },
  {
   "cell_type": "code",
   "execution_count": 186,
   "metadata": {
    "collapsed": true,
    "pycharm": {
     "name": "#%%\n"
    }
   },
   "outputs": [],
   "source": [
    "def lower_case(line): return line.lower().strip()\n"
   ]
  },
  {
   "cell_type": "markdown",
   "metadata": {},
   "source": [
    "### Stem Words"
   ]
  },
  {
   "cell_type": "code",
   "execution_count": 187,
   "metadata": {
    "collapsed": true,
    "pycharm": {
     "name": "#%%\n"
    }
   },
   "outputs": [],
   "source": [
    "def stem_words(line):\n",
    "    ps = PorterStemmer()\n",
    "\n",
    "    words = line.split()\n",
    "    \n",
    "    return_list = [ps.stem(word.strip()) for word in words]\n",
    "\n",
    "    return ' '.join(return_list)\n"
   ]
  },
  {
   "cell_type": "markdown",
   "metadata": {},
   "source": [
    "### Remove Stop Words"
   ]
  },
  {
   "cell_type": "code",
   "execution_count": 188,
   "metadata": {
    "collapsed": true,
    "pycharm": {
     "name": "#%%\n"
    }
   },
   "outputs": [],
   "source": [
    "def remove_stop_words(line):\n",
    "\n",
    "    words = line.split()\n",
    "    \n",
    "    kept_words = [word for word in words if word not in stop_words]\n",
    "\n",
    "    return ' '.join(kept_words)\n"
   ]
  },
  {
   "cell_type": "markdown",
   "metadata": {
    "pycharm": {
     "name": "#%% md\n"
    }
   },
   "source": [
    "### Remove Special Characters and Numbers"
   ]
  },
  {
   "cell_type": "code",
   "execution_count": 189,
   "metadata": {
    "collapsed": true,
    "pycharm": {
     "name": "#%%\n"
    }
   },
   "outputs": [],
   "source": [
    "def remove_special_characters_and_numbers(line):\n",
    "    return re.sub(r'([^a-zA-Z\\s]+?)', '', line)\n",
    "\n",
    "\n"
   ]
  },
  {
   "cell_type": "markdown",
   "metadata": {
    "pycharm": {
     "name": "#%% md\n"
    }
   },
   "source": [
    "### Vectorize"
   ]
  },
  {
   "cell_type": "code",
   "execution_count": 190,
   "metadata": {
    "collapsed": true,
    "pycharm": {
     "name": "#%%\n"
    }
   },
   "outputs": [],
   "source": [
    "\n",
    "def get_words_set(df): return {word for index, row in df.iterrows() for word in row['Review'].split()}    \n",
    "\n",
    "\n",
    "def create_row_dict(index, row, word_set):\n",
    "    \n",
    "    if index % 10000 == 0:\n",
    "        print('processing index ', index, '.')\n",
    "    \n",
    "    row_words = set(row['Review'].split())\n",
    "    \n",
    "    return_dict = {header: (0, 1)[header in row_words] for header in word_set}\n",
    "    return_dict['_Freshness'] = row['Freshness']\n",
    "    \n",
    "    return return_dict\n",
    "\n",
    "\n",
    "def vectorize(df):\n",
    "    word_set = get_words_set(df)\n",
    "    print('word_set size: ', len(word_set))\n",
    "\n",
    "    word_set_list = list(word_set)\n",
    "    word_set_list.insert(0, 'Freshness')\n",
    "    word_location_dict = {word_set_list[index]: index for index in range(len(word_set_list))}\n",
    "    \n",
    "    dimensions = (len(df.index), len(word_set_list))\n",
    "    zero_matrix = np.zeros(dimensions, dtype=int)\n",
    "    \n",
    "    matrix = pd.DataFrame(zero_matrix, columns=word_set_list)\n",
    "    \n",
    "    matrix['Freshness'] = df['Freshness']\n",
    "\n",
    "    return matrix\n",
    "\n"
   ]
  },
  {
   "cell_type": "markdown",
   "metadata": {
    "pycharm": {
     "name": "#%% md\n"
    }
   },
   "source": [
    "# Main\n",
    "### Clean"
   ]
  },
  {
   "cell_type": "code",
   "execution_count": 191,
   "metadata": {
    "pycharm": {
     "name": "#%%\n"
    }
   },
   "outputs": [
    {
     "name": "stdout",
     "output_type": "stream",
     "text": [
      "Finished, lower_case: \n",
      "TIME:  1.3612155999999231\n",
      "Finished, remove_stop_words: \n",
      "TIME:  25.76407889999973\n",
      "Finished, remove_special_characters_and_numbers: \n",
      "TIME:  28.302428200000577\n",
      "Finished, stem_words: \n",
      "TIME:  218.94521739999982\n",
      "Finished, cleaned to csv: \n",
      "TIME:  221.3629753999994\n"
     ]
    }
   ],
   "source": [
    "\n",
    "import time\n",
    "start = time.clock()\n",
    "def get_time():\n",
    "    print('TIME: ', time.clock() - start)\n",
    "\n",
    "def clean_data(df):\n",
    "    df['Review'] = df['Review'].apply(lower_case)\n",
    "    print('Finished, lower_case: ')\n",
    "    get_time()\n",
    "    df['Review'] = df['Review'].apply(remove_stop_words)\n",
    "    print('Finished, remove_stop_words: ')\n",
    "    get_time()\n",
    "    df['Review'] = df['Review'].apply(remove_special_characters_and_numbers)\n",
    "    print('Finished, remove_special_characters_and_numbers: ')\n",
    "    get_time()\n",
    "    df['Review'] = df['Review'].apply(stem_words)\n",
    "    print('Finished, stem_words: ')\n",
    "    get_time()\n",
    "\n",
    "    df.to_csv('cleaned.csv', index=False)\n",
    "    print('Finished, cleaned to csv: ')\n",
    "    get_time()\n",
    "    \n",
    "# raw_df = pd.read_csv('truncated.csv')\n",
    "raw_df = pd.read_csv('rotten_tomatoes_reviews.csv')\n",
    "\n",
    "clean_data(raw_df)\n"
   ]
  },
  {
   "cell_type": "markdown",
   "metadata": {
    "pycharm": {
     "name": "#%% md\n"
    }
   },
   "source": [
    "### Vectorize"
   ]
  },
  {
   "cell_type": "code",
   "execution_count": 192,
   "metadata": {
    "pycharm": {
     "name": "#%%\n"
    }
   },
   "outputs": [
    {
     "name": "stdout",
     "output_type": "stream",
     "text": [
      "word_set size:  93682\n"
     ]
    },
    {
     "ename": "MemoryError",
     "evalue": "",
     "output_type": "error",
     "traceback": [
      "\u001b[1;31m---------------------------------------------------------------------------\u001b[0m",
      "\u001b[1;31mMemoryError\u001b[0m                               Traceback (most recent call last)",
      "\u001b[1;32m<ipython-input-192-65472038c5bb>\u001b[0m in \u001b[0;36m<module>\u001b[1;34m()\u001b[0m\n\u001b[0;32m      1\u001b[0m \u001b[1;33m\u001b[0m\u001b[0m\n\u001b[0;32m      2\u001b[0m \u001b[0mclean_data\u001b[0m \u001b[1;33m=\u001b[0m \u001b[0mpd\u001b[0m\u001b[1;33m.\u001b[0m\u001b[0mread_csv\u001b[0m\u001b[1;33m(\u001b[0m\u001b[1;34m'cleaned.csv'\u001b[0m\u001b[1;33m)\u001b[0m\u001b[1;33m\u001b[0m\u001b[0m\n\u001b[1;32m----> 3\u001b[1;33m \u001b[0mvectorized\u001b[0m \u001b[1;33m=\u001b[0m \u001b[0mvectorize\u001b[0m\u001b[1;33m(\u001b[0m\u001b[0mclean_data\u001b[0m\u001b[1;33m)\u001b[0m\u001b[1;33m\u001b[0m\u001b[0m\n\u001b[0m\u001b[0;32m      4\u001b[0m \u001b[0mprint\u001b[0m\u001b[1;33m(\u001b[0m\u001b[1;34m'Finished, vectorize: '\u001b[0m\u001b[1;33m)\u001b[0m\u001b[1;33m\u001b[0m\u001b[0m\n\u001b[0;32m      5\u001b[0m \u001b[0mget_time\u001b[0m\u001b[1;33m(\u001b[0m\u001b[1;33m)\u001b[0m\u001b[1;33m\u001b[0m\u001b[0m\n",
      "\u001b[1;32m<ipython-input-190-33b0cc6c0e34>\u001b[0m in \u001b[0;36mvectorize\u001b[1;34m(df)\u001b[0m\n\u001b[0;32m     25\u001b[0m \u001b[1;33m\u001b[0m\u001b[0m\n\u001b[0;32m     26\u001b[0m     \u001b[0mdimensions\u001b[0m \u001b[1;33m=\u001b[0m \u001b[1;33m(\u001b[0m\u001b[0mlen\u001b[0m\u001b[1;33m(\u001b[0m\u001b[0mdf\u001b[0m\u001b[1;33m.\u001b[0m\u001b[0mindex\u001b[0m\u001b[1;33m)\u001b[0m\u001b[1;33m,\u001b[0m \u001b[0mlen\u001b[0m\u001b[1;33m(\u001b[0m\u001b[0mword_set_list\u001b[0m\u001b[1;33m)\u001b[0m\u001b[1;33m)\u001b[0m\u001b[1;33m\u001b[0m\u001b[0m\n\u001b[1;32m---> 27\u001b[1;33m     \u001b[0mzero_matrix\u001b[0m \u001b[1;33m=\u001b[0m \u001b[0mnp\u001b[0m\u001b[1;33m.\u001b[0m\u001b[0mzeros\u001b[0m\u001b[1;33m(\u001b[0m\u001b[0mdimensions\u001b[0m\u001b[1;33m,\u001b[0m \u001b[0mdtype\u001b[0m\u001b[1;33m=\u001b[0m\u001b[0mint\u001b[0m\u001b[1;33m)\u001b[0m\u001b[1;33m\u001b[0m\u001b[0m\n\u001b[0m\u001b[0;32m     28\u001b[0m \u001b[1;33m\u001b[0m\u001b[0m\n\u001b[0;32m     29\u001b[0m     \u001b[0mmatrix\u001b[0m \u001b[1;33m=\u001b[0m \u001b[0mpd\u001b[0m\u001b[1;33m.\u001b[0m\u001b[0mDataFrame\u001b[0m\u001b[1;33m(\u001b[0m\u001b[0mzero_matrix\u001b[0m\u001b[1;33m,\u001b[0m \u001b[0mcolumns\u001b[0m\u001b[1;33m=\u001b[0m\u001b[0mword_set_list\u001b[0m\u001b[1;33m)\u001b[0m\u001b[1;33m\u001b[0m\u001b[0m\n",
      "\u001b[1;31mMemoryError\u001b[0m: "
     ]
    }
   ],
   "source": [
    "\n",
    "clean_data = pd.read_csv('cleaned.csv')\n",
    "vectorized = vectorize(clean_data)\n",
    "print('Finished, vectorize: ')\n",
    "get_time()\n",
    "vectorized.to_csv('vectorized.csv', index=False)\n",
    "print('Finished! ')\n",
    "get_time()\n"
   ]
  }
 ],
 "metadata": {
  "kernelspec": {
   "display_name": "Python 3",
   "language": "python",
   "name": "python3"
  },
  "language_info": {
   "codemirror_mode": {
    "name": "ipython",
    "version": 3
   },
   "file_extension": ".py",
   "mimetype": "text/x-python",
   "name": "python",
   "nbconvert_exporter": "python",
   "pygments_lexer": "ipython3",
   "version": "3.6.1"
  },
  "pycharm": {
   "stem_cell": {
    "cell_type": "raw",
    "metadata": {
     "collapsed": false
    },
    "source": []
   }
  }
 },
 "nbformat": 4,
 "nbformat_minor": 1
}
